{
 "cells": [
  {
   "cell_type": "code",
   "execution_count": null,
   "metadata": {},
   "outputs": [],
   "source": [
    "from scipy.special import softmax\n",
    "import numpy as np\n",
    "import matplotlib.pyplot as plt\n",
    "\n",
    "from sklearn.linear_model import LogisticRegression\n",
    "from sklearn.metrics import accuracy_score\n",
    "from sklearn.metrics import precision_recall_fscore_support"
   ]
  },
  {
   "cell_type": "code",
   "execution_count": null,
   "metadata": {
    "scrolled": true
   },
   "outputs": [],
   "source": [
    "def read_data(filename):\n",
    "    PATH  = \"/home/dona/bm75/Project_Chathurika/Classification/data/data/remove_background/results/\"\n",
    "    #PATH  = \"/home/dona/bm75/Project_Chathurika/Classification/data/results/\"\n",
    "    f = open(PATH + filename, 'r')\n",
    "    f.readline()\n",
    "    \n",
    "    predictions = []\n",
    "    labels = []\n",
    "    for line in f:\n",
    "        splits = line.strip().split(']')\n",
    "        #print(splits[-1])\n",
    "        labels.append(int(splits[-1].split(',')[-1]))\n",
    "        if len(splits[0].split()) > 2:\n",
    "            preds = [float(splits[0].split()[1]), float(splits[0].split()[-1])] \n",
    "        else:\n",
    "            preds = [float(splits[0].split()[0].split('[')[-1]), float(splits[0].split()[-1])]\n",
    "        #print(preds, softmax(np.array(preds))[1])\n",
    "        predictions.append(softmax(np.array(preds))[1])\n",
    "    # print(\"=============================\")\n",
    "    return labels, predictions\n",
    "\n",
    "#filenames = ['abdomen']\n",
    "filenames = ['body', 'head', 'thorax', 'abdomen']\n",
    "# filenames = ['body_resnet101']\n",
    "train_labels_list = []\n",
    "test_labels_list = []\n",
    "train_predictions_list = []\n",
    "test_predictions_list = []\n",
    "for filename in filenames:\n",
    "    labels, predictions = read_data(filename + '_train.txt')\n",
    "    predictions = np.array(predictions).reshape(-1,1)\n",
    "    train_labels_list.append(labels)\n",
    "    train_predictions_list.append(predictions)\n",
    "    \n",
    "    labels, predictions = read_data(filename + '_test.txt')\n",
    "    \n",
    "    predictions = np.array(predictions).reshape(-1,1)\n",
    "\n",
    "    print(filename)\n",
    "    predicted_labels = predictions.copy()\n",
    "    predicted_labels[predicted_labels>0.5]=1\n",
    "    predicted_labels[predicted_labels<=0.5]=0\n",
    "    print(accuracy_score(labels, predicted_labels))\n",
    "    p, r, f, _ = precision_recall_fscore_support(labels, predicted_labels, average=\"binary\")\n",
    "    print(p, r, f)\n",
    "    test_labels_list.append(labels)\n",
    "    test_predictions_list.append(predictions)"
   ]
  },
  {
   "cell_type": "code",
   "execution_count": null,
   "metadata": {},
   "outputs": [],
   "source": [
    "from scipy.stats import pearsonr\n",
    "for i in range(4):\n",
    "    for j in range(4):\n",
    "        if  i == j:\n",
    "             continue\n",
    "        print(i,j)\n",
    "        print(pearsonr(train_predictions_list[i].reshape(-1,), train_predictions_list[j].reshape(-1,1)))"
   ]
  },
  {
   "cell_type": "code",
   "execution_count": null,
   "metadata": {},
   "outputs": [],
   "source": [
    "from sklearn.tree import DecisionTreeClassifier\n",
    "\n",
    "train_X = np.concatenate(train_predictions_list[:2] + train_predictions_list[2:], axis = -1)\n",
    "test_X = np.concatenate(test_predictions_list[:2] + test_predictions_list[2:], axis = -1)\n",
    "\n",
    "model = LogisticRegression().fit(train_X, train_labels_list[0])\n",
    "#model = DecisionTreeClassifier().fit(train_X, train_labels_list[0])\n",
    "\n",
    "print(train_X)\n",
    "ensemble_train_preds = model.predict(train_X)\n",
    "ensemble_test_preds = model.predict(test_X)\n",
    "\n",
    "# ensemble_test_preds = np.round(np.mean(np.array(test_predictions_list).astype(float), axis =0))\n",
    "# ensemble_test_preds"
   ]
  },
  {
   "cell_type": "code",
   "execution_count": null,
   "metadata": {},
   "outputs": [],
   "source": [
    "print(accuracy_score(train_labels_list[0], ensemble_train_preds))\n",
    "print(accuracy_score(test_labels_list[0], ensemble_test_preds))\n",
    "print(precision_recall_fscore_support(test_labels_list[0], ensemble_test_preds, average=\"binary\"))"
   ]
  },
  {
   "cell_type": "code",
   "execution_count": null,
   "metadata": {},
   "outputs": [],
   "source": [
    "import pickle\n",
    "file = \"/home/dona/bm75/Project_Chathurika/Classification/data/data/remove_background/\" + 'ensembling_model.sav'\n",
    "pickle.dump(model, open(file, 'wb'))\n",
    "loaded_model = pickle.load(open(file, 'rb'))\n",
    "result = loaded_model.predict(train_X)\n",
    "print(len(result))\n",
    "print(len(train_labels_list[0]))"
   ]
  },
  {
   "cell_type": "code",
   "execution_count": null,
   "metadata": {},
   "outputs": [],
   "source": [
    "objects = ('body', 'head', 'thorax', 'abdomen')\n",
    "y_pos = np.arange(len(objects))\n",
    "print(model.coef_)\n",
    "\n",
    "plt.bar(y_pos, model.coef_[0], align='center', alpha=0.5)\n",
    "plt.xticks(y_pos, objects)\n",
    "plt.show()"
   ]
  }
 ],
 "metadata": {
  "kernelspec": {
   "display_name": "Python 3 (ipykernel)",
   "language": "python",
   "name": "python3"
  },
  "language_info": {
   "codemirror_mode": {
    "name": "ipython",
    "version": 3
   },
   "file_extension": ".py",
   "mimetype": "text/x-python",
   "name": "python",
   "nbconvert_exporter": "python",
   "pygments_lexer": "ipython3",
   "version": "3.9.6"
  }
 },
 "nbformat": 4,
 "nbformat_minor": 4
}
